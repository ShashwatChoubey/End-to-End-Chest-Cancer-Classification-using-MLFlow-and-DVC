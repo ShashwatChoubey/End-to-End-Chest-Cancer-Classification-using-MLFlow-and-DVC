{
 "cells": [
  {
   "cell_type": "code",
   "execution_count": 1,
   "id": "e6358ef0",
   "metadata": {},
   "outputs": [],
   "source": [
    "import gdown"
   ]
  },
  {
   "cell_type": "code",
   "execution_count": 5,
   "id": "cebeedaa",
   "metadata": {},
   "outputs": [],
   "source": [
    "url = \"https://drive.google.com/file/d/1YFHe6UoqiB74kfWLrCoGNmEhKwWcrxPu/view?usp=sharing\""
   ]
  },
  {
   "cell_type": "code",
   "execution_count": 7,
   "id": "dbbdd8c6",
   "metadata": {},
   "outputs": [
    {
     "data": {
      "text/plain": [
       "'1YFHe6UoqiB74kfWLrCoGNmEhKwWcrxPu'"
      ]
     },
     "execution_count": 7,
     "metadata": {},
     "output_type": "execute_result"
    }
   ],
   "source": [
    "file_id = url.split(\"/\")[-2]\n",
    "file_id"
   ]
  },
  {
   "cell_type": "code",
   "execution_count": 8,
   "id": "8db477a3",
   "metadata": {},
   "outputs": [
    {
     "name": "stderr",
     "output_type": "stream",
     "text": [
      "Downloading...\n",
      "From (original): https://drive.google.com/uc?/export=download&id=1YFHe6UoqiB74kfWLrCoGNmEhKwWcrxPu\n",
      "From (redirected): https://drive.google.com/uc?%2Fexport=download&id=1YFHe6UoqiB74kfWLrCoGNmEhKwWcrxPu&confirm=t&uuid=3f08d8fc-2b59-4bf5-ab1c-a6e1650bc567\n",
      "To: c:\\Users\\shash\\OneDrive\\Desktop\\Summer Project\\End-to-End-Chest-Cancer-Classification-using-MLFlow-and-DVC\\research\\Chest-Ct-scan-data\n",
      "100%|██████████| 63.7M/63.7M [00:10<00:00, 6.10MB/s]\n"
     ]
    },
    {
     "data": {
      "text/plain": [
       "'Chest-Ct-scan-data'"
      ]
     },
     "execution_count": 8,
     "metadata": {},
     "output_type": "execute_result"
    }
   ],
   "source": [
    "prefix = 'https://drive.google.com/uc?/export=download&id='\n",
    "gdown.download(prefix+file_id,\"Chest-Ct-scan-data\")"
   ]
  },
  {
   "cell_type": "code",
   "execution_count": null,
   "id": "689e6b7a",
   "metadata": {},
   "outputs": [],
   "source": []
  }
 ],
 "metadata": {
  "kernelspec": {
   "display_name": "cancer",
   "language": "python",
   "name": "python3"
  },
  "language_info": {
   "codemirror_mode": {
    "name": "ipython",
    "version": 3
   },
   "file_extension": ".py",
   "mimetype": "text/x-python",
   "name": "python",
   "nbconvert_exporter": "python",
   "pygments_lexer": "ipython3",
   "version": "3.9.21"
  }
 },
 "nbformat": 4,
 "nbformat_minor": 5
}
